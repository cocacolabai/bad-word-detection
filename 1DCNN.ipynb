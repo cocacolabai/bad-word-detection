{
 "cells": [
  {
   "cell_type": "markdown",
   "metadata": {},
   "source": [
    "# ==== 1D CNN 모델링 ===="
   ]
  },
  {
   "cell_type": "code",
   "execution_count": 24,
   "metadata": {},
   "outputs": [],
   "source": [
    "import pandas as pd\n",
    "import numpy as np\n",
    "\n",
    "# 벡터화된 데이터 불러오기\n",
    "data = pd.read_json(\"./labeled_data.json\")\n",
    "data.columns = [\"label\", \"trigram\"]"
   ]
  },
  {
   "cell_type": "code",
   "execution_count": 25,
   "metadata": {},
   "outputs": [],
   "source": [
    "# 3 x 50 -> 150 차원으로 flastten해주는 과정\n",
    "data['trigram'] = data['trigram'].apply(lambda x: (np.array(x).reshape(-1)))"
   ]
  },
  {
   "cell_type": "code",
   "execution_count": 26,
   "metadata": {},
   "outputs": [],
   "source": [
    "# train/test 데이터 분리\n",
    "from sklearn.model_selection import train_test_split\n",
    "\n",
    "y = data.pop('label')\n",
    "X = data\n",
    "\n",
    "X_train, X_test, y_train, y_test = train_test_split(X, y, test_size=0.3, random_state=42)"
   ]
  },
  {
   "cell_type": "code",
   "execution_count": 27,
   "metadata": {},
   "outputs": [],
   "source": [
    "# keras 데이터 형식에 맞게 변환\n",
    "X_train = np.array(X_train['trigram'].tolist())\n",
    "X_test = np.array(X_test['trigram'].tolist())\n",
    "y_train = y_train.values\n",
    "y_test = y_test.values"
   ]
  },
  {
   "cell_type": "code",
   "execution_count": 28,
   "metadata": {},
   "outputs": [
    {
     "data": {
      "text/plain": [
       "(9779, 150)"
      ]
     },
     "execution_count": 28,
     "metadata": {},
     "output_type": "execute_result"
    }
   ],
   "source": [
    "X_train.shape # row개수 x embeedding차원"
   ]
  },
  {
   "cell_type": "code",
   "execution_count": 29,
   "metadata": {},
   "outputs": [
    {
     "data": {
      "text/plain": [
       "(9779,)"
      ]
     },
     "execution_count": 29,
     "metadata": {},
     "output_type": "execute_result"
    }
   ],
   "source": [
    "y_train.shape # row개수 x 1"
   ]
  },
  {
   "cell_type": "code",
   "execution_count": 30,
   "metadata": {},
   "outputs": [],
   "source": [
    "# keras 모델에 넣기 위한 reshape 과정\n",
    "def reshape(df, dim):\n",
    "    return df.reshape(df.shape[0], dim, 1)"
   ]
  },
  {
   "cell_type": "code",
   "execution_count": 31,
   "metadata": {},
   "outputs": [
    {
     "data": {
      "text/plain": [
       "(9779, 150, 1)"
      ]
     },
     "execution_count": 31,
     "metadata": {},
     "output_type": "execute_result"
    }
   ],
   "source": [
    "X_train = reshape(X_train, 150)\n",
    "X_test = reshape(X_test, 150)\n",
    "X_train.shape"
   ]
  },
  {
   "cell_type": "markdown",
   "metadata": {},
   "source": [
    "# ==== CNN ===="
   ]
  },
  {
   "cell_type": "code",
   "execution_count": 35,
   "metadata": {},
   "outputs": [],
   "source": [
    "# f1 score를 알기 위해 정의한 함수 \n",
    "# 출처: https://datascience.stackexchange.com/questions/45165/how-to-get-accuracy-f1-precision-and-recall-for-a-keras-model\n",
    "from keras import backend as K\n",
    "\n",
    "def recall_m(y_true, y_pred):\n",
    "        true_positives = K.sum(K.round(K.clip(y_true * y_pred, 0, 1)))\n",
    "        possible_positives = K.sum(K.round(K.clip(y_true, 0, 1)))\n",
    "        recall = true_positives / (possible_positives + K.epsilon())\n",
    "        return recall\n",
    "\n",
    "def precision_m(y_true, y_pred):\n",
    "        true_positives = K.sum(K.round(K.clip(y_true * y_pred, 0, 1)))\n",
    "        predicted_positives = K.sum(K.round(K.clip(y_pred, 0, 1)))\n",
    "        precision = true_positives / (predicted_positives + K.epsilon())\n",
    "        return precision\n",
    "\n",
    "def f1_m(y_true, y_pred):\n",
    "    precision = precision_m(y_true, y_pred)\n",
    "    recall = recall_m(y_true, y_pred)\n",
    "    return 2*((precision*recall)/(precision+recall+K.epsilon()))"
   ]
  },
  {
   "cell_type": "code",
   "execution_count": 54,
   "metadata": {},
   "outputs": [
    {
     "name": "stdout",
     "output_type": "stream",
     "text": [
      "Model: \"sequential_1\"\n",
      "_________________________________________________________________\n",
      "Layer (type)                 Output Shape              Param #   \n",
      "=================================================================\n",
      "dense_1 (Dense)              (None, 150, 150)          300       \n",
      "_________________________________________________________________\n",
      "batch_normalization_1 (Batch (None, 150, 150)          600       \n",
      "_________________________________________________________________\n",
      "conv1d_1 (Conv1D)            (None, 146, 100)          75100     \n",
      "_________________________________________________________________\n",
      "conv1d_2 (Conv1D)            (None, 144, 100)          30100     \n",
      "_________________________________________________________________\n",
      "max_pooling1d_1 (MaxPooling1 (None, 48, 100)           0         \n",
      "_________________________________________________________________\n",
      "dropout_1 (Dropout)          (None, 48, 100)           0         \n",
      "_________________________________________________________________\n",
      "flatten_1 (Flatten)          (None, 4800)              0         \n",
      "_________________________________________________________________\n",
      "dense_2 (Dense)              (None, 50)                240050    \n",
      "_________________________________________________________________\n",
      "dense_3 (Dense)              (None, 1)                 51        \n",
      "=================================================================\n",
      "Total params: 346,201\n",
      "Trainable params: 345,901\n",
      "Non-trainable params: 300\n",
      "_________________________________________________________________\n"
     ]
    }
   ],
   "source": [
    "from keras.models import Sequential\n",
    "from keras.layers import Conv2D, Conv1D\n",
    "from keras.layers import MaxPooling1D\n",
    "from keras.layers import Activation, Dropout, Flatten, Dense\n",
    "from keras.callbacks import ModelCheckpoint\n",
    "from keras.layers.normalization import BatchNormalization\n",
    "from keras import backend as K\n",
    "\n",
    "K.clear_session() # session 초기화\n",
    "\n",
    "model = Sequential()\n",
    "model.add(Dense(150, input_shape=(X_train.shape[1], 1), activation=\"relu\"))\n",
    "model.add(BatchNormalization()) \n",
    "model.add(Conv1D(filters=100, kernel_size=5, activation='relu'))\n",
    "model.add(Conv1D(filters=100, kernel_size=3, activation='sigmoid'))\n",
    "model.add(MaxPooling1D(pool_size=3))\n",
    "model.add(Dropout(0.4))\n",
    "model.add(Flatten())\n",
    "model.add(Dense(50, activation='relu'))\n",
    "model.add(Dense(1, activation='sigmoid'))\n",
    "model.compile(loss='binary_crossentropy', optimizer='adam', metrics=['accuracy', f1_m])\n",
    "model.summary()"
   ]
  },
  {
   "cell_type": "code",
   "execution_count": 55,
   "metadata": {},
   "outputs": [
    {
     "name": "stdout",
     "output_type": "stream",
     "text": [
      "Train on 6845 samples, validate on 2934 samples\n",
      "Epoch 1/50\n",
      "6845/6845 [==============================] - 42s 6ms/step - loss: 0.7094 - acc: 0.6936 - f1_m: 0.8004 - val_loss: 0.5816 - val_acc: 0.7035 - val_f1_m: 0.8249\n",
      "Epoch 2/50\n",
      "6845/6845 [==============================] - 39s 6ms/step - loss: 0.4939 - acc: 0.7157 - f1_m: 0.8330 - val_loss: 0.4598 - val_acc: 0.7035 - val_f1_m: 0.8249\n",
      "Epoch 3/50\n",
      "6845/6845 [==============================] - 38s 6ms/step - loss: 0.4410 - acc: 0.7234 - f1_m: 0.8367 - val_loss: 0.4408 - val_acc: 0.8054 - val_f1_m: 0.8685\n",
      "Epoch 4/50\n",
      "6845/6845 [==============================] - 40s 6ms/step - loss: 0.4249 - acc: 0.8183 - f1_m: 0.8788 - val_loss: 0.4292 - val_acc: 0.8030 - val_f1_m: 0.8674\n",
      "Epoch 5/50\n",
      "6845/6845 [==============================] - 39s 6ms/step - loss: 0.4133 - acc: 0.8250 - f1_m: 0.8824 - val_loss: 0.4192 - val_acc: 0.8108 - val_f1_m: 0.8719\n",
      "Epoch 6/50\n",
      "6845/6845 [==============================] - 39s 6ms/step - loss: 0.4040 - acc: 0.8324 - f1_m: 0.8864 - val_loss: 0.4098 - val_acc: 0.8211 - val_f1_m: 0.8746\n",
      "Epoch 7/50\n",
      "6845/6845 [==============================] - 40s 6ms/step - loss: 0.3929 - acc: 0.8365 - f1_m: 0.8888 - val_loss: 0.4214 - val_acc: 0.8132 - val_f1_m: 0.8604\n",
      "Epoch 8/50\n",
      "6845/6845 [==============================] - 39s 6ms/step - loss: 0.3864 - acc: 0.8375 - f1_m: 0.8888 - val_loss: 0.4015 - val_acc: 0.8248 - val_f1_m: 0.8785\n",
      "Epoch 9/50\n",
      "6845/6845 [==============================] - 38s 6ms/step - loss: 0.3757 - acc: 0.8405 - f1_m: 0.8901 - val_loss: 0.3932 - val_acc: 0.8306 - val_f1_m: 0.8804\n",
      "Epoch 10/50\n",
      "6845/6845 [==============================] - 39s 6ms/step - loss: 0.3698 - acc: 0.8437 - f1_m: 0.8924 - val_loss: 0.4015 - val_acc: 0.8255 - val_f1_m: 0.8816\n",
      "Epoch 11/50\n",
      "6845/6845 [==============================] - 39s 6ms/step - loss: 0.3666 - acc: 0.8504 - f1_m: 0.8962 - val_loss: 0.3895 - val_acc: 0.8330 - val_f1_m: 0.8858\n",
      "Epoch 12/50\n",
      "6845/6845 [==============================] - 38s 6ms/step - loss: 0.3523 - acc: 0.8545 - f1_m: 0.8993 - val_loss: 0.3833 - val_acc: 0.8265 - val_f1_m: 0.8760\n",
      "Epoch 13/50\n",
      "6845/6845 [==============================] - 37s 5ms/step - loss: 0.3490 - acc: 0.8583 - f1_m: 0.9019 - val_loss: 0.3811 - val_acc: 0.8378 - val_f1_m: 0.8841\n",
      "Epoch 14/50\n",
      "6845/6845 [==============================] - 39s 6ms/step - loss: 0.3513 - acc: 0.8581 - f1_m: 0.9019 - val_loss: 0.3754 - val_acc: 0.8354 - val_f1_m: 0.8853\n",
      "Epoch 15/50\n",
      "6845/6845 [==============================] - 39s 6ms/step - loss: 0.3403 - acc: 0.8587 - f1_m: 0.9029 - val_loss: 0.3722 - val_acc: 0.8364 - val_f1_m: 0.8826\n",
      "Epoch 16/50\n",
      "6845/6845 [==============================] - 38s 6ms/step - loss: 0.3386 - acc: 0.8600 - f1_m: 0.9029 - val_loss: 0.3734 - val_acc: 0.8371 - val_f1_m: 0.8876\n",
      "Epoch 17/50\n",
      "6845/6845 [==============================] - 39s 6ms/step - loss: 0.3316 - acc: 0.8659 - f1_m: 0.9067 - val_loss: 0.3803 - val_acc: 0.8323 - val_f1_m: 0.8858\n",
      "Epoch 18/50\n",
      "6845/6845 [==============================] - 38s 6ms/step - loss: 0.3252 - acc: 0.8675 - f1_m: 0.9075 - val_loss: 0.3826 - val_acc: 0.8374 - val_f1_m: 0.8892\n",
      "Epoch 19/50\n",
      "6845/6845 [==============================] - 37s 5ms/step - loss: 0.3212 - acc: 0.8647 - f1_m: 0.9064 - val_loss: 0.3712 - val_acc: 0.8436 - val_f1_m: 0.8912\n",
      "Epoch 20/50\n",
      "6845/6845 [==============================] - 40s 6ms/step - loss: 0.3176 - acc: 0.8691 - f1_m: 0.9082 - val_loss: 0.3647 - val_acc: 0.8412 - val_f1_m: 0.8853\n",
      "Epoch 21/50\n",
      "6845/6845 [==============================] - 38s 6ms/step - loss: 0.3157 - acc: 0.8684 - f1_m: 0.9079 - val_loss: 0.3687 - val_acc: 0.8449 - val_f1_m: 0.8922\n",
      "Epoch 22/50\n",
      "6845/6845 [==============================] - 39s 6ms/step - loss: 0.3114 - acc: 0.8730 - f1_m: 0.9112 - val_loss: 0.3650 - val_acc: 0.8436 - val_f1_m: 0.8876\n",
      "Epoch 23/50\n",
      "6845/6845 [==============================] - 40s 6ms/step - loss: 0.3041 - acc: 0.8774 - f1_m: 0.9147 - val_loss: 0.3630 - val_acc: 0.8432 - val_f1_m: 0.8888\n",
      "Epoch 24/50\n",
      "6845/6845 [==============================] - 39s 6ms/step - loss: 0.3020 - acc: 0.8764 - f1_m: 0.9139 - val_loss: 0.3635 - val_acc: 0.8456 - val_f1_m: 0.8919\n",
      "Epoch 25/50\n",
      "6845/6845 [==============================] - 38s 6ms/step - loss: 0.3023 - acc: 0.8777 - f1_m: 0.9144 - val_loss: 0.3614 - val_acc: 0.8446 - val_f1_m: 0.8899\n",
      "Epoch 26/50\n",
      "6845/6845 [==============================] - 38s 6ms/step - loss: 0.3011 - acc: 0.8771 - f1_m: 0.9139 - val_loss: 0.3597 - val_acc: 0.8449 - val_f1_m: 0.8875\n",
      "Epoch 27/50\n",
      "6845/6845 [==============================] - 38s 6ms/step - loss: 0.2972 - acc: 0.8792 - f1_m: 0.9154 - val_loss: 0.3562 - val_acc: 0.8449 - val_f1_m: 0.8865\n",
      "Epoch 28/50\n",
      "6845/6845 [==============================] - 39s 6ms/step - loss: 0.2857 - acc: 0.8834 - f1_m: 0.9182 - val_loss: 0.3552 - val_acc: 0.8476 - val_f1_m: 0.8913\n",
      "Epoch 29/50\n",
      "6845/6845 [==============================] - 39s 6ms/step - loss: 0.2885 - acc: 0.8827 - f1_m: 0.9175 - val_loss: 0.3692 - val_acc: 0.8371 - val_f1_m: 0.8869\n",
      "Epoch 30/50\n",
      "6845/6845 [==============================] - 38s 6ms/step - loss: 0.2931 - acc: 0.8801 - f1_m: 0.9164 - val_loss: 0.3617 - val_acc: 0.8449 - val_f1_m: 0.8886\n",
      "Epoch 31/50\n",
      "6845/6845 [==============================] - 38s 6ms/step - loss: 0.2857 - acc: 0.8811 - f1_m: 0.9163 - val_loss: 0.3647 - val_acc: 0.8476 - val_f1_m: 0.8923\n",
      "Epoch 32/50\n",
      "6845/6845 [==============================] - 38s 6ms/step - loss: 0.2800 - acc: 0.8871 - f1_m: 0.9199 - val_loss: 0.3956 - val_acc: 0.8357 - val_f1_m: 0.8888\n",
      "Epoch 33/50\n",
      "6845/6845 [==============================] - 38s 6ms/step - loss: 0.2806 - acc: 0.8858 - f1_m: 0.9200 - val_loss: 0.3623 - val_acc: 0.8408 - val_f1_m: 0.8827\n",
      "Epoch 34/50\n",
      "6845/6845 [==============================] - 38s 5ms/step - loss: 0.2854 - acc: 0.8846 - f1_m: 0.9191 - val_loss: 0.3729 - val_acc: 0.8459 - val_f1_m: 0.8925\n",
      "Epoch 35/50\n",
      "6845/6845 [==============================] - 39s 6ms/step - loss: 0.2783 - acc: 0.8866 - f1_m: 0.9209 - val_loss: 0.3636 - val_acc: 0.8480 - val_f1_m: 0.8913\n",
      "Epoch 36/50\n",
      "6845/6845 [==============================] - 38s 6ms/step - loss: 0.2770 - acc: 0.8877 - f1_m: 0.9213 - val_loss: 0.3598 - val_acc: 0.8507 - val_f1_m: 0.8937\n",
      "Epoch 37/50\n",
      "6845/6845 [==============================] - 39s 6ms/step - loss: 0.2695 - acc: 0.8903 - f1_m: 0.9231 - val_loss: 0.3582 - val_acc: 0.8490 - val_f1_m: 0.8919\n",
      "Epoch 38/50\n",
      "6845/6845 [==============================] - 38s 6ms/step - loss: 0.2660 - acc: 0.8936 - f1_m: 0.9258 - val_loss: 0.3578 - val_acc: 0.8497 - val_f1_m: 0.8945\n",
      "Epoch 39/50\n",
      "6845/6845 [==============================] - 39s 6ms/step - loss: 0.2736 - acc: 0.8897 - f1_m: 0.9226 - val_loss: 0.3613 - val_acc: 0.8490 - val_f1_m: 0.8914\n",
      "Epoch 40/50\n",
      "6845/6845 [==============================] - 38s 6ms/step - loss: 0.2655 - acc: 0.8916 - f1_m: 0.9236 - val_loss: 0.3636 - val_acc: 0.8436 - val_f1_m: 0.8852\n",
      "Epoch 41/50\n",
      "6845/6845 [==============================] - 38s 6ms/step - loss: 0.2612 - acc: 0.8960 - f1_m: 0.9271 - val_loss: 0.3805 - val_acc: 0.8490 - val_f1_m: 0.8957\n",
      "Epoch 42/50\n",
      "6845/6845 [==============================] - 38s 6ms/step - loss: 0.2553 - acc: 0.8991 - f1_m: 0.9292 - val_loss: 0.3678 - val_acc: 0.8483 - val_f1_m: 0.8930\n",
      "Epoch 43/50\n",
      "6845/6845 [==============================] - 38s 6ms/step - loss: 0.2566 - acc: 0.8972 - f1_m: 0.9275 - val_loss: 0.3662 - val_acc: 0.8497 - val_f1_m: 0.8950\n",
      "Epoch 44/50\n",
      "6845/6845 [==============================] - 39s 6ms/step - loss: 0.2638 - acc: 0.8951 - f1_m: 0.9258 - val_loss: 0.3665 - val_acc: 0.8480 - val_f1_m: 0.8926\n",
      "Epoch 45/50\n",
      "6845/6845 [==============================] - 39s 6ms/step - loss: 0.2535 - acc: 0.8969 - f1_m: 0.9275 - val_loss: 0.3712 - val_acc: 0.8494 - val_f1_m: 0.8944\n",
      "Epoch 46/50\n",
      "6845/6845 [==============================] - 38s 6ms/step - loss: 0.2553 - acc: 0.8941 - f1_m: 0.9259 - val_loss: 0.3795 - val_acc: 0.8398 - val_f1_m: 0.8891\n",
      "Epoch 47/50\n",
      "6845/6845 [==============================] - 38s 6ms/step - loss: 0.2480 - acc: 0.9002 - f1_m: 0.9303 - val_loss: 0.3641 - val_acc: 0.8538 - val_f1_m: 0.8952\n",
      "Epoch 48/50\n",
      "6845/6845 [==============================] - 38s 6ms/step - loss: 0.2496 - acc: 0.8977 - f1_m: 0.9277 - val_loss: 0.3657 - val_acc: 0.8504 - val_f1_m: 0.8942\n",
      "Epoch 49/50\n",
      "6845/6845 [==============================] - 39s 6ms/step - loss: 0.2513 - acc: 0.9005 - f1_m: 0.9299 - val_loss: 0.3588 - val_acc: 0.8463 - val_f1_m: 0.8896\n",
      "Epoch 50/50\n",
      "6845/6845 [==============================] - 38s 6ms/step - loss: 0.2577 - acc: 0.8960 - f1_m: 0.9259 - val_loss: 0.3680 - val_acc: 0.8517 - val_f1_m: 0.8961\n"
     ]
    }
   ],
   "source": [
    "history = model.fit(X_train, y_train, epochs=50, batch_size=64, validation_split=0.3)"
   ]
  },
  {
   "cell_type": "code",
   "execution_count": 64,
   "metadata": {},
   "outputs": [
    {
     "name": "stdout",
     "output_type": "stream",
     "text": [
      "4191/4191 [==============================] - 7s 2ms/step\n"
     ]
    },
    {
     "data": {
      "text/plain": [
       "[0.3625960384382891, 0.857790503502461, 0.9014614264113441]"
      ]
     },
     "execution_count": 64,
     "metadata": {},
     "output_type": "execute_result"
    }
   ],
   "source": [
    "model.evaluate(X_test, y_test)"
   ]
  },
  {
   "cell_type": "code",
   "execution_count": 62,
   "metadata": {},
   "outputs": [
    {
     "name": "stdout",
     "output_type": "stream",
     "text": [
      "4191/4191 [==============================] - 7s 2ms/step\n"
     ]
    },
    {
     "ename": "TypeError",
     "evalue": "must be real number, not list",
     "output_type": "error",
     "traceback": [
      "\u001b[0;31m---------------------------------------------------------------------------\u001b[0m",
      "\u001b[0;31mTypeError\u001b[0m                                 Traceback (most recent call last)",
      "\u001b[0;32m<ipython-input-62-663b71f29ba7>\u001b[0m in \u001b[0;36m<module>\u001b[0;34m\u001b[0m\n\u001b[0;32m----> 1\u001b[0;31m \u001b[0mprint\u001b[0m\u001b[0;34m(\u001b[0m\u001b[0;34m\"\\n 테스트 정확도: %.4f\"\u001b[0m \u001b[0;34m%\u001b[0m \u001b[0;34m(\u001b[0m\u001b[0mmodel\u001b[0m\u001b[0;34m.\u001b[0m\u001b[0mevaluate\u001b[0m\u001b[0;34m(\u001b[0m\u001b[0mX_test\u001b[0m\u001b[0;34m,\u001b[0m \u001b[0my_test\u001b[0m\u001b[0;34m)\u001b[0m\u001b[0;34m)\u001b[0m\u001b[0;34m)\u001b[0m\u001b[0;34m\u001b[0m\u001b[0;34m\u001b[0m\u001b[0m\n\u001b[0m",
      "\u001b[0;31mTypeError\u001b[0m: must be real number, not list"
     ]
    }
   ],
   "source": [
    "print(\"\\n 테스트 정확도: %.4f\" % (model.evaluate(X_test, y_test)[1]))"
   ]
  },
  {
   "cell_type": "code",
   "execution_count": 61,
   "metadata": {},
   "outputs": [
    {
     "data": {
      "image/png": "[encoded data removed]",
      "text/plain": [
       "<Figure size 432x288 with 1 Axes>"
      ]
     },
     "metadata": {
      "needs_background": "light"
     },
     "output_type": "display_data"
    }
   ],
   "source": [
    "import matplotlib.pyplot as plt\n",
    "\n",
    "epochs = range(1, len(history.history['acc']) + 1)\n",
    "plt.plot(epochs, history.history['acc'])\n",
    "plt.plot(epochs, history.history['val_acc'])\n",
    "plt.plot(epochs, history.history['val_f1_m'])\n",
    "plt.title('model accuracy')\n",
    "plt.ylabel('score')\n",
    "plt.xlabel('epoch')\n",
    "plt.legend(['train_acc', 'val_acc', 'f1score'], loc='upper left')\n",
    "plt.savefig(\"./1DCNN reuslt.png\")\n",
    "plt.show()\n",
    "# train에 대해서 오버피팅 된다. val은 조금 증가하고 왔다갔다한다. epoch은 20정도만해도  충분한 것 같다."
   ]
  },
  {
   "cell_type": "code",
   "execution_count": 58,
   "metadata": {},
   "outputs": [],
   "source": [
    "model.save(\"./cnn_model\")"
   ]
  },
  {
   "cell_type": "code",
   "execution_count": null,
   "metadata": {},
   "outputs": [],
   "source": []
  },
  {
   "cell_type": "code",
   "execution_count": null,
   "metadata": {},
   "outputs": [],
   "source": []
  },
  {
   "cell_type": "code",
   "execution_count": null,
   "metadata": {},
   "outputs": [],
   "source": []
  },
  {
   "cell_type": "code",
   "execution_count": null,
   "metadata": {},
   "outputs": [],
   "source": []
  }
 ],
 "metadata": {
  "kernelspec": {
   "display_name": "Python 3",
   "language": "python",
   "name": "python3"
  },
  "language_info": {
   "codemirror_mode": {
    "name": "ipython",
    "version": 3
   },
   "file_extension": ".py",
   "mimetype": "text/x-python",
   "name": "python",
   "nbconvert_exporter": "python",
   "pygments_lexer": "ipython3",
   "version": "3.7.4"
  }
 },
 "nbformat": 4,
 "nbformat_minor": 4
}

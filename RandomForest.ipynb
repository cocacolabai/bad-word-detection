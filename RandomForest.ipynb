{
 "cells": [
  {
   "cell_type": "markdown",
   "metadata": {},
   "source": [
    "# Random Forest"
   ]
  },
  {
   "cell_type": "markdown",
   "metadata": {},
   "source": [
    "# ==== input 형태 만들기 ===="
   ]
  },
  {
   "cell_type": "code",
   "execution_count": 2,
   "metadata": {},
   "outputs": [],
   "source": [
    "import pandas as pd\n",
    "import numpy as np\n",
    "\n",
    "data = pd.read_json(\"./labeled_data.json\")\n",
    "data.columns = [\"label\", \"trigram\"]"
   ]
  },
  {
   "cell_type": "code",
   "execution_count": 3,
   "metadata": {},
   "outputs": [],
   "source": [
    "# data flatten 해줌 3 x 50 = 150 feature\n",
    "data['trigram'] = data['trigram'].apply(lambda x: (np.array(x).reshape(-1)))\n",
    "\n",
    "# 훈련데이터 테스트데이터 분리\n",
    "from sklearn.model_selection import train_test_split\n",
    "\n",
    "y = data.pop('label')\n",
    "X = data\n",
    "\n",
    "X_train, X_test, y_train, y_test = train_test_split(X, y, test_size=0.3, random_state=42)\n",
    "\n",
    "X_train = np.array(X_train['trigram'].tolist())\n",
    "X_test = np.array(X_test['trigram'].tolist())"
   ]
  },
  {
   "cell_type": "markdown",
   "metadata": {},
   "source": [
    "# ==== 모델링 ===="
   ]
  },
  {
   "cell_type": "code",
   "execution_count": 5,
   "metadata": {},
   "outputs": [
    {
     "data": {
      "text/plain": [
       "RandomForestClassifier(bootstrap=True, class_weight=None, criterion='gini',\n",
       "                       max_depth=2, max_features='auto', max_leaf_nodes=None,\n",
       "                       min_impurity_decrease=0.0, min_impurity_split=None,\n",
       "                       min_samples_leaf=1, min_samples_split=2,\n",
       "                       min_weight_fraction_leaf=0.0, n_estimators=100,\n",
       "                       n_jobs=None, oob_score=False, random_state=1, verbose=0,\n",
       "                       warm_start=False)"
      ]
     },
     "execution_count": 5,
     "metadata": {},
     "output_type": "execute_result"
    }
   ],
   "source": [
    "from sklearn.ensemble import RandomForestClassifier\n",
    "\n",
    "# 기본모델로 돌려보기\n",
    "rf = RandomForestClassifier(n_estimators=100, max_depth=2,\n",
    "                             random_state=1)\n",
    "\n",
    "rf.fit(X_train, y_train)"
   ]
  },
  {
   "cell_type": "code",
   "execution_count": 6,
   "metadata": {},
   "outputs": [
    {
     "name": "stdout",
     "output_type": "stream",
     "text": [
      "0.7163309131813069 0.7174898592221427\n"
     ]
    }
   ],
   "source": [
    "# score 출력 역시 좋지않다!\n",
    "print(rf.score(X_train, y_train), rf.score(X_test, y_test))"
   ]
  },
  {
   "cell_type": "code",
   "execution_count": 7,
   "metadata": {},
   "outputs": [
    {
     "name": "stdout",
     "output_type": "stream",
     "text": [
      "{'bootstrap': True, 'class_weight': None, 'criterion': 'gini', 'max_depth': 2, 'max_features': 'auto', 'max_leaf_nodes': None, 'min_impurity_decrease': 0.0, 'min_impurity_split': None, 'min_samples_leaf': 1, 'min_samples_split': 2, 'min_weight_fraction_leaf': 0.0, 'n_estimators': 100, 'n_jobs': None, 'oob_score': False, 'random_state': 1, 'verbose': 0, 'warm_start': False}\n"
     ]
    }
   ],
   "source": [
    "print(rf.get_params())"
   ]
  },
  {
   "cell_type": "code",
   "execution_count": 9,
   "metadata": {},
   "outputs": [
    {
     "data": {
      "text/plain": [
       "{'n_estimators': [10, 20, 30, 40, 50, 60, 70, 80, 90, 100],\n",
       " 'max_depth': [10, 19, 28, 37, 46, 55, 64, 73, 82, 91, 100, None],\n",
       " 'min_samples_split': [2, 5, 10],\n",
       " 'min_samples_leaf': [1, 2, 4],\n",
       " 'bootstrap': [True, False]}"
      ]
     },
     "execution_count": 9,
     "metadata": {},
     "output_type": "execute_result"
    }
   ],
   "source": [
    "# grid search를 위한 hyper parameter 범위 설정\n",
    "\n",
    "# Number of trees in random forest\n",
    "n_estimators = [int(x) for x in np.linspace(start = 10, stop = 100, num = 10)]\n",
    "# Maximum number of levels in tree\n",
    "max_depth = [int(x) for x in np.linspace(10, 100, num = 11)]\n",
    "max_depth.append(None)\n",
    "# Minimum number of samples required to split a node\n",
    "min_samples_split = [2, 5, 10]\n",
    "# Minimum number of samples required at each leaf node\n",
    "min_samples_leaf = [1, 2, 4]\n",
    "# Method of selecting samples for training each tree\n",
    "bootstrap = [True, False]\n",
    "# Create the random grid\n",
    "random_grid = {'n_estimators': n_estimators,\n",
    "               'max_depth': max_depth,\n",
    "               'min_samples_split': min_samples_split,\n",
    "               'min_samples_leaf': min_samples_leaf,\n",
    "               'bootstrap': bootstrap}\n",
    "random_grid"
   ]
  },
  {
   "cell_type": "code",
   "execution_count": 12,
   "metadata": {},
   "outputs": [
    {
     "name": "stdout",
     "output_type": "stream",
     "text": [
      "CPU times: user 18.4 s, sys: 1.64 s, total: 20.1 s\n",
      "Wall time: 56min 20s\n"
     ]
    }
   ],
   "source": [
    "from sklearn.model_selection import GridSearchCV\n",
    "from sklearn.pipeline import Pipeline\n",
    "from sklearn.preprocessing import StandardScaler\n",
    "\n",
    "# scaler한다음 rf grid search\n",
    "pipe_rf = Pipeline([('scl', StandardScaler()), ('rf', RandomForestClassifier(random_state=1))])\n",
    "\n",
    "param_grid = {'rf__n_estimators': n_estimators,\n",
    "               'rf__max_depth': max_depth,\n",
    "               'rf__min_samples_split': min_samples_split,\n",
    "               'rf__min_samples_leaf': min_samples_leaf}\n",
    "#                'rf__bootstrap': bootstrap}\n",
    "\n",
    "# 욕설아닌 것들을 잘 예측을 못하기 때문에 f1 score기준으로 search하였다.\n",
    "gs = GridSearchCV(estimator=pipe_rf, param_grid=param_grid,\n",
    "                  scoring='f1', cv=5, n_jobs=-1)\n",
    "%time gs = gs.fit(X_train, y_train)"
   ]
  },
  {
   "cell_type": "code",
   "execution_count": 13,
   "metadata": {},
   "outputs": [
    {
     "name": "stdout",
     "output_type": "stream",
     "text": [
      "0.9041595093718033\n",
      "{'rf__max_depth': 28, 'rf__min_samples_leaf': 1, 'rf__min_samples_split': 2, 'rf__n_estimators': 80}\n"
     ]
    }
   ],
   "source": [
    "# grid search를 통해 나온 best score, parameters 보기\n",
    "print(gs.best_score_)\n",
    "print(gs.best_params_)"
   ]
  },
  {
   "cell_type": "code",
   "execution_count": 20,
   "metadata": {},
   "outputs": [
    {
     "data": {
      "text/plain": [
       "RandomForestClassifier(bootstrap=True, class_weight=None, criterion='gini',\n",
       "                       max_depth=28, max_features='auto', max_leaf_nodes=None,\n",
       "                       min_impurity_decrease=0.0, min_impurity_split=None,\n",
       "                       min_samples_leaf=1, min_samples_split=2,\n",
       "                       min_weight_fraction_leaf=0.0, n_estimators=80,\n",
       "                       n_jobs=None, oob_score=False, random_state=None,\n",
       "                       verbose=0, warm_start=False)"
      ]
     },
     "execution_count": 20,
     "metadata": {},
     "output_type": "execute_result"
    }
   ],
   "source": [
    "# 베스트 파라미터 적용시켜서 다시하기\n",
    "clf = RandomForestClassifier(max_depth=28, min_samples_leaf=1, min_samples_split=2, n_estimators=80)\n",
    "clf.fit(X_train, y_train)"
   ]
  },
  {
   "cell_type": "code",
   "execution_count": 25,
   "metadata": {},
   "outputs": [
    {
     "name": "stdout",
     "output_type": "stream",
     "text": [
      "0.9988751406074241 0.8618468146027202\n",
      "              precision    recall  f1-score   support\n",
      "\n",
      "           0       0.83      0.65      0.73      1205\n",
      "           1       0.87      0.95      0.91      2986\n",
      "\n",
      "    accuracy                           0.86      4191\n",
      "   macro avg       0.85      0.80      0.82      4191\n",
      "weighted avg       0.86      0.86      0.86      4191\n",
      "\n"
     ]
    }
   ],
   "source": [
    "from sklearn.metrics import classification_report, confusion_matrix \n",
    "# print prediction results \n",
    "predictions = clf.predict(X_test) \n",
    "print(clf.score(X_train, y_train), clf.score(X_test, y_test))\n",
    "print(classification_report(y_test, predictions)) "
   ]
  },
  {
   "cell_type": "code",
   "execution_count": 22,
   "metadata": {},
   "outputs": [
    {
     "data": {
      "text/plain": [
       "[(74, 0.04833944969431489),\n",
       " (81, 0.024481502486178877),\n",
       " (73, 0.02281956474931012),\n",
       " (78, 0.022678854591804846),\n",
       " (61, 0.020070450843119064),\n",
       " (79, 0.01811390039696703),\n",
       " (82, 0.017959499259192598),\n",
       " (67, 0.01770153025298927),\n",
       " (85, 0.01736047291538577),\n",
       " (96, 0.01606220945314773),\n",
       " (98, 0.01531237403515211),\n",
       " (124, 0.014949087173775319),\n",
       " (71, 0.014630017385657945),\n",
       " (72, 0.013871216070973913),\n",
       " (93, 0.012456008243748231),\n",
       " (75, 0.012148444677806035),\n",
       " (83, 0.011277990090811298),\n",
       " (50, 0.010752187493707616),\n",
       " (62, 0.010748594436991686),\n",
       " (86, 0.009882246027366728)]"
      ]
     },
     "execution_count": 22,
     "metadata": {},
     "output_type": "execute_result"
    }
   ],
   "source": [
    "tt = zip(list(range(len(clf.feature_importances_))), list(clf.feature_importances_))\n",
    "sorted(tt, key=lambda x: x[1], reverse=True)[:20] # 50 부터 100까지가 욕설의 형태를 띈 단어인데 그주변이 대부분이다."
   ]
  },
  {
   "cell_type": "code",
   "execution_count": 26,
   "metadata": {},
   "outputs": [],
   "source": [
    "# save the model to disk\n",
    "import pickle\n",
    "filename = 'rf_model'\n",
    "pickle.dump(clf, open(filename, 'wb'))"
   ]
  },
  {
   "cell_type": "code",
   "execution_count": 27,
   "metadata": {},
   "outputs": [
    {
     "name": "stdout",
     "output_type": "stream",
     "text": [
      "[1]\n"
     ]
    },
    {
     "data": {
      "text/plain": [
       "array([[0.05  , 0.95  ],\n",
       "       [0.1625, 0.8375]])"
      ]
     },
     "execution_count": 27,
     "metadata": {},
     "output_type": "execute_result"
    }
   ],
   "source": [
    "# load the model from disk\n",
    "from sklearn.externals import joblib\n",
    "loaded_model = joblib.load(filename)\n",
    "result = loaded_model.predict(X_train[0:1])\n",
    "print(result)\n",
    "clf.predict_proba(X_train[0:2])"
   ]
  },
  {
   "cell_type": "code",
   "execution_count": null,
   "metadata": {},
   "outputs": [],
   "source": []
  }
 ],
 "metadata": {
  "kernelspec": {
   "display_name": "Python 3",
   "language": "python",
   "name": "python3"
  },
  "language_info": {
   "codemirror_mode": {
    "name": "ipython",
    "version": 3
   },
   "file_extension": ".py",
   "mimetype": "text/x-python",
   "name": "python",
   "nbconvert_exporter": "python",
   "pygments_lexer": "ipython3",
   "version": "3.7.4"
  }
 },
 "nbformat": 4,
 "nbformat_minor": 4
}

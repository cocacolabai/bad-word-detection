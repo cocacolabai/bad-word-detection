{
 "cells": [
  {
   "cell_type": "markdown",
   "metadata": {},
   "source": [
    "# Trigram으로 나눠진 라벨링된 데이터를 불러와 벡터화 시키기"
   ]
  },
  {
   "cell_type": "code",
   "execution_count": 10,
   "metadata": {},
   "outputs": [],
   "source": [
    "import pandas as pd\n",
    "import numpy as np\n",
    "from JamoSplit import jamo_combine, jamo_split"
   ]
  },
  {
   "cell_type": "code",
   "execution_count": 11,
   "metadata": {},
   "outputs": [],
   "source": [
    "data = pd.read_csv(\"./preprocessing_labeled_data.csv\", header=None)"
   ]
  },
  {
   "cell_type": "markdown",
   "metadata": {},
   "source": [
    "# ==== input에 맞게 데이터 수정 ===="
   ]
  },
  {
   "cell_type": "code",
   "execution_count": 12,
   "metadata": {},
   "outputs": [],
   "source": [
    "# int형으로 문제가 발생하여 전부 str 타입으로 설정\n",
    "data[0] = data[0].astype(\"str\")\n",
    "data[1] = data[1].astype(\"str\")\n",
    "data[2] = data[2].astype(\"str\")"
   ]
  },
  {
   "cell_type": "code",
   "execution_count": 13,
   "metadata": {},
   "outputs": [],
   "source": [
    "# 빈칸이 nan되는 문제 다시 공백으로 체인지\n",
    "data[0] = data[0].apply(lambda x: \" \" if x == 'nan' else x)\n",
    "data[1] = data[1].apply(lambda x: \" \" if x == 'nan' else x)\n",
    "data[2] = data[2].apply(lambda x: \" \" if x == 'nan' else x)"
   ]
  },
  {
   "cell_type": "code",
   "execution_count": 14,
   "metadata": {},
   "outputs": [],
   "source": [
    "# 데이터 한 column으로 합치기\n",
    "data['trigram'] = data[0] + \"$\" + data[1] + \"$\"+ data[2]\n",
    "del data[0], data[1], data[2] # 합친후에 삭제\n",
    "\n",
    "# 자모분리\n",
    "data['trigram'] = data['trigram'].apply(lambda x: jamo_split(x))\n",
    "# ㅂㅏ_ㅂㅗ_ 가 한 word가 될 수 있도록 만들어주는 과정\n",
    "data['trigram'] = data['trigram'].apply(lambda x: x.split(\"$\"))"
   ]
  },
  {
   "cell_type": "code",
   "execution_count": 15,
   "metadata": {},
   "outputs": [
    {
     "data": {
      "text/html": [
       "<div>\n",
       "<style scoped>\n",
       "    .dataframe tbody tr th:only-of-type {\n",
       "        vertical-align: middle;\n",
       "    }\n",
       "\n",
       "    .dataframe tbody tr th {\n",
       "        vertical-align: top;\n",
       "    }\n",
       "\n",
       "    .dataframe thead th {\n",
       "        text-align: right;\n",
       "    }\n",
       "</style>\n",
       "<table border=\"1\" class=\"dataframe\">\n",
       "  <thead>\n",
       "    <tr style=\"text-align: right;\">\n",
       "      <th></th>\n",
       "      <th>3</th>\n",
       "      <th>trigram</th>\n",
       "    </tr>\n",
       "  </thead>\n",
       "  <tbody>\n",
       "    <tr>\n",
       "      <td>0</td>\n",
       "      <td>1</td>\n",
       "      <td>[ㅁㅗㅅㅎㅏ_ㄴㅡㄴ, ㄱㅘㄴㅈㅗㅇ, ㅠㅠ]</td>\n",
       "    </tr>\n",
       "    <tr>\n",
       "      <td>1</td>\n",
       "      <td>1</td>\n",
       "      <td>[ , ㅅㅟ_ㅂㅓㄹ,  ]</td>\n",
       "    </tr>\n",
       "    <tr>\n",
       "      <td>2</td>\n",
       "      <td>0</td>\n",
       "      <td>[ , ㅇㅠ_ㅎㅡㅇ, ㄱㅏ_ㅈㅣ_ㄱㅗ_]</td>\n",
       "    </tr>\n",
       "    <tr>\n",
       "      <td>3</td>\n",
       "      <td>0</td>\n",
       "      <td>[ㅈㅓㅈㅂㅕㅇ, ㅈㅓㅈㄲㅗㄱㅈㅣ_,  ]</td>\n",
       "    </tr>\n",
       "    <tr>\n",
       "      <td>4</td>\n",
       "      <td>1</td>\n",
       "      <td>[ㅁㅣㄴㅈㅜ_ㅋㅟ_, ㄷㅗㄹㅇㅏㅆㄴㅏ_, ㅁㅣㄴㅈㅜ_ㅍㅐㄴㄷㅡㄹㅇㅡㄴ]</td>\n",
       "    </tr>\n",
       "  </tbody>\n",
       "</table>\n",
       "</div>"
      ],
      "text/plain": [
       "   3                                  trigram\n",
       "0  1                  [ㅁㅗㅅㅎㅏ_ㄴㅡㄴ, ㄱㅘㄴㅈㅗㅇ, ㅠㅠ]\n",
       "1  1                           [ , ㅅㅟ_ㅂㅓㄹ,  ]\n",
       "2  0                   [ , ㅇㅠ_ㅎㅡㅇ, ㄱㅏ_ㅈㅣ_ㄱㅗ_]\n",
       "3  0                   [ㅈㅓㅈㅂㅕㅇ, ㅈㅓㅈㄲㅗㄱㅈㅣ_,  ]\n",
       "4  1  [ㅁㅣㄴㅈㅜ_ㅋㅟ_, ㄷㅗㄹㅇㅏㅆㄴㅏ_, ㅁㅣㄴㅈㅜ_ㅍㅐㄴㄷㅡㄹㅇㅡㄴ]"
      ]
     },
     "execution_count": 15,
     "metadata": {},
     "output_type": "execute_result"
    }
   ],
   "source": [
    "data.head() # 3column이 label이다."
   ]
  },
  {
   "cell_type": "code",
   "execution_count": 16,
   "metadata": {},
   "outputs": [],
   "source": [
    "# fasttext 모델 불러오기\n",
    "from gensim.models import FastText\n",
    "\n",
    "embedding_model = FastText.load(\"./gensim_festtext.model\")"
   ]
  },
  {
   "cell_type": "code",
   "execution_count": 17,
   "metadata": {},
   "outputs": [
    {
     "name": "stderr",
     "output_type": "stream",
     "text": [
      "/Users/daier/anaconda3/envs/testEnv/lib/python3.7/site-packages/ipykernel_launcher.py:2: DeprecationWarning: Call to deprecated `__getitem__` (Method will be removed in 4.0.0, use self.wv.__getitem__() instead).\n",
      "  \n"
     ]
    }
   ],
   "source": [
    "# 각 단어를 벡터화 시켜주는 과정 3 x 50(embedding dimension) \n",
    "data['trigram'] = data['trigram'].apply(lambda x: [embedding_model[_] for _ in x])"
   ]
  },
  {
   "cell_type": "code",
   "execution_count": 19,
   "metadata": {},
   "outputs": [
    {
     "data": {
      "text/html": [
       "<div>\n",
       "<style scoped>\n",
       "    .dataframe tbody tr th:only-of-type {\n",
       "        vertical-align: middle;\n",
       "    }\n",
       "\n",
       "    .dataframe tbody tr th {\n",
       "        vertical-align: top;\n",
       "    }\n",
       "\n",
       "    .dataframe thead th {\n",
       "        text-align: right;\n",
       "    }\n",
       "</style>\n",
       "<table border=\"1\" class=\"dataframe\">\n",
       "  <thead>\n",
       "    <tr style=\"text-align: right;\">\n",
       "      <th></th>\n",
       "      <th>3</th>\n",
       "      <th>trigram</th>\n",
       "    </tr>\n",
       "  </thead>\n",
       "  <tbody>\n",
       "    <tr>\n",
       "      <td>0</td>\n",
       "      <td>1</td>\n",
       "      <td>[[-1.953795, -1.1928164, -0.18564849, -0.40059...</td>\n",
       "    </tr>\n",
       "    <tr>\n",
       "      <td>1</td>\n",
       "      <td>1</td>\n",
       "      <td>[[0.01287517, 0.013801623, 0.017847467, -0.012...</td>\n",
       "    </tr>\n",
       "    <tr>\n",
       "      <td>2</td>\n",
       "      <td>0</td>\n",
       "      <td>[[0.01287517, 0.013801623, 0.017847467, -0.012...</td>\n",
       "    </tr>\n",
       "    <tr>\n",
       "      <td>3</td>\n",
       "      <td>0</td>\n",
       "      <td>[[-0.41459364, 0.14193316, -0.7080049, 0.40626...</td>\n",
       "    </tr>\n",
       "    <tr>\n",
       "      <td>4</td>\n",
       "      <td>1</td>\n",
       "      <td>[[-0.17480232, -0.062112387, -0.6108945, 0.764...</td>\n",
       "    </tr>\n",
       "  </tbody>\n",
       "</table>\n",
       "</div>"
      ],
      "text/plain": [
       "   3                                            trigram\n",
       "0  1  [[-1.953795, -1.1928164, -0.18564849, -0.40059...\n",
       "1  1  [[0.01287517, 0.013801623, 0.017847467, -0.012...\n",
       "2  0  [[0.01287517, 0.013801623, 0.017847467, -0.012...\n",
       "3  0  [[-0.41459364, 0.14193316, -0.7080049, 0.40626...\n",
       "4  1  [[-0.17480232, -0.062112387, -0.6108945, 0.764..."
      ]
     },
     "execution_count": 19,
     "metadata": {},
     "output_type": "execute_result"
    }
   ],
   "source": [
    "data.head()"
   ]
  },
  {
   "cell_type": "code",
   "execution_count": 18,
   "metadata": {},
   "outputs": [],
   "source": [
    "# 벡터화된 데이터로 저장\n",
    "data.to_json(\"./labeled_data.json\")"
   ]
  }
 ],
 "metadata": {
  "kernelspec": {
   "display_name": "Python 3",
   "language": "python",
   "name": "python3"
  },
  "language_info": {
   "codemirror_mode": {
    "name": "ipython",
    "version": 3
   },
   "file_extension": ".py",
   "mimetype": "text/x-python",
   "name": "python",
   "nbconvert_exporter": "python",
   "pygments_lexer": "ipython3",
   "version": "3.7.4"
  }
 },
 "nbformat": 4,
 "nbformat_minor": 4
}
